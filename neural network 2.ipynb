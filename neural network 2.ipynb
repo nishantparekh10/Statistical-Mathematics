{
 "cells": [
  {
   "cell_type": "code",
   "execution_count": 9,
   "id": "735398f8",
   "metadata": {},
   "outputs": [],
   "source": [
    "import numpy as np"
   ]
  },
  {
   "cell_type": "code",
   "execution_count": 10,
   "id": "eb410110",
   "metadata": {},
   "outputs": [],
   "source": [
    "np.random.seed(1)"
   ]
  },
  {
   "cell_type": "code",
   "execution_count": 11,
   "id": "a1cd28b3",
   "metadata": {},
   "outputs": [],
   "source": [
    "x=np.random.randn(2,3)"
   ]
  },
  {
   "cell_type": "code",
   "execution_count": 12,
   "id": "f17a3677",
   "metadata": {},
   "outputs": [
    {
     "data": {
      "text/plain": [
       "array([[ 1.62434536, -0.61175641, -0.52817175],\n",
       "       [-1.07296862,  0.86540763, -2.3015387 ]])"
      ]
     },
     "execution_count": 12,
     "metadata": {},
     "output_type": "execute_result"
    }
   ],
   "source": [
    "x"
   ]
  },
  {
   "cell_type": "code",
   "execution_count": 13,
   "id": "bba419e1",
   "metadata": {},
   "outputs": [],
   "source": [
    "y=np.array([[1,0,1]])"
   ]
  },
  {
   "cell_type": "code",
   "execution_count": 14,
   "id": "60a6cd4b",
   "metadata": {},
   "outputs": [
    {
     "data": {
      "text/plain": [
       "array([[1, 0, 1]])"
      ]
     },
     "execution_count": 14,
     "metadata": {},
     "output_type": "execute_result"
    }
   ],
   "source": [
    "y"
   ]
  },
  {
   "cell_type": "code",
   "execution_count": 15,
   "id": "3c735574",
   "metadata": {},
   "outputs": [],
   "source": [
    "def layer_size(x,y):\n",
    "    n_x=x.shape[0]\n",
    "    n_h=4\n",
    "    n_y=y.shape[0]\n",
    "    return(n_x,n_h,n_y)"
   ]
  },
  {
   "cell_type": "code",
   "execution_count": 16,
   "id": "1e5ffc12",
   "metadata": {},
   "outputs": [
    {
     "data": {
      "text/plain": [
       "(2, 4, 1)"
      ]
     },
     "execution_count": 16,
     "metadata": {},
     "output_type": "execute_result"
    }
   ],
   "source": [
    "layer_size(x,y)"
   ]
  },
  {
   "cell_type": "code",
   "execution_count": 18,
   "id": "87a4bc1b",
   "metadata": {},
   "outputs": [],
   "source": [
    "def int_value(n_x,n_h,n_y):\n",
    "    np.random.seed(2)\n",
    "    w1=np.random.randn(n_h,n_x)*0.01\n",
    "    b1=np.zeros(shape=(n_h,1))\n",
    "    w2=np.random.rand(n_y,n_h)*0.01\n",
    "    b2=np.zeros(shape=(n_y,1))\n",
    "    parameters = {\"w1\":w1,\"b1\":b1,\"w2\":w2,\"b2\":b2}\n",
    "    \n",
    "    return parameters"
   ]
  },
  {
   "cell_type": "code",
   "execution_count": 21,
   "id": "ae1c4491",
   "metadata": {},
   "outputs": [],
   "source": [
    "n_x,n_h,n_y=2, 4, 1\n",
    "parameters=int_value(n_x,n_h,n_y)"
   ]
  },
  {
   "cell_type": "code",
   "execution_count": 22,
   "id": "e8239887",
   "metadata": {},
   "outputs": [
    {
     "data": {
      "text/plain": [
       "{'w1': array([[-0.00416758, -0.00056267],\n",
       "        [-0.02136196,  0.01640271],\n",
       "        [-0.01793436, -0.00841747],\n",
       "        [ 0.00502881, -0.01245288]]),\n",
       " 'b1': array([[0.],\n",
       "        [0.],\n",
       "        [0.],\n",
       "        [0.]]),\n",
       " 'w2': array([[0.00299655, 0.00266827, 0.00621134, 0.00529142]]),\n",
       " 'b2': array([[0.]])}"
      ]
     },
     "execution_count": 22,
     "metadata": {},
     "output_type": "execute_result"
    }
   ],
   "source": [
    "parameters"
   ]
  },
  {
   "cell_type": "code",
   "execution_count": 23,
   "id": "ca15e05b",
   "metadata": {},
   "outputs": [],
   "source": [
    "def sigmoid(z):\n",
    "    s=1/(1+np.exp(-z))\n",
    "    return s"
   ]
  },
  {
   "cell_type": "code",
   "execution_count": 24,
   "id": "6c32812a",
   "metadata": {},
   "outputs": [],
   "source": [
    "## Step 1 - Forward PRG\n",
    "\n",
    "def fwd_prg(x,parameters):\n",
    "    w1=parameters['w1']\n",
    "    b1=parameters['b1']\n",
    "    w2=parameters['w2']\n",
    "    b2=parameters['b2']\n",
    "    \n",
    "    z1=np.dot(w1,x)+b1\n",
    "    a1=np.tanh(z1)\n",
    "    z2=np.dot(w2,a1)+b2\n",
    "    a2=sigmoid(z2)\n",
    "    \n",
    "    catch={\"z1\":z1,\"a1\":a1,\"z2\":z2,\"a2\":a2}\n",
    "    \n",
    "    return a2, catch"
   ]
  },
  {
   "cell_type": "code",
   "execution_count": 25,
   "id": "771985ee",
   "metadata": {},
   "outputs": [],
   "source": [
    "a2, catch= fwd_prg(x,parameters)"
   ]
  },
  {
   "cell_type": "code",
   "execution_count": 26,
   "id": "bd8666a3",
   "metadata": {},
   "outputs": [
    {
     "data": {
      "text/plain": [
       "array([[0.4999578 , 0.50000713, 0.50006414]])"
      ]
     },
     "execution_count": 26,
     "metadata": {},
     "output_type": "execute_result"
    }
   ],
   "source": [
    "a2"
   ]
  },
  {
   "cell_type": "code",
   "execution_count": 27,
   "id": "e398c36b",
   "metadata": {},
   "outputs": [
    {
     "data": {
      "text/plain": [
       "{'z1': array([[-0.00616586,  0.00206261,  0.0034962 ],\n",
       "        [-0.05229879,  0.02726335, -0.02646868],\n",
       "        [-0.0200999 ,  0.00368691,  0.02884556],\n",
       "        [ 0.02153008, -0.01385323,  0.02600471]]),\n",
       " 'a1': array([[-0.00616578,  0.0020626 ,  0.00349619],\n",
       "        [-0.05225116,  0.02725659, -0.0264625 ],\n",
       "        [-0.0200972 ,  0.00368689,  0.02883756],\n",
       "        [ 0.02152676, -0.01385234,  0.02599885]]),\n",
       " 'z2': array([[-1.68819775e-04,  2.85106887e-05,  2.56558028e-04]]),\n",
       " 'a2': array([[0.4999578 , 0.50000713, 0.50006414]])}"
      ]
     },
     "execution_count": 27,
     "metadata": {},
     "output_type": "execute_result"
    }
   ],
   "source": [
    "catch"
   ]
  },
  {
   "cell_type": "code",
   "execution_count": 28,
   "id": "ba260e34",
   "metadata": {},
   "outputs": [],
   "source": [
    "def compute_cost(a2,y,parameters):\n",
    "    m=y.size\n",
    "    cost=-np.sum(y*np.log(a2)+(1-y)*np.log(1-a2))/m\n",
    "    return cost"
   ]
  },
  {
   "cell_type": "code",
   "execution_count": 29,
   "id": "18c7d80b",
   "metadata": {},
   "outputs": [],
   "source": [
    "cost=compute_cost(a2,y,parameters)"
   ]
  },
  {
   "cell_type": "code",
   "execution_count": 30,
   "id": "d02e982a",
   "metadata": {},
   "outputs": [
    {
     "data": {
      "text/plain": [
       "0.6931373132632764"
      ]
     },
     "execution_count": 30,
     "metadata": {},
     "output_type": "execute_result"
    }
   ],
   "source": [
    "cost"
   ]
  }
 ],
 "metadata": {
  "kernelspec": {
   "display_name": "Python 3",
   "language": "python",
   "name": "python3"
  },
  "language_info": {
   "codemirror_mode": {
    "name": "ipython",
    "version": 3
   },
   "file_extension": ".py",
   "mimetype": "text/x-python",
   "name": "python",
   "nbconvert_exporter": "python",
   "pygments_lexer": "ipython3",
   "version": "3.8.8"
  }
 },
 "nbformat": 4,
 "nbformat_minor": 5
}
